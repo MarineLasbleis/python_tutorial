{
 "cells": [
  {
   "cell_type": "markdown",
   "metadata": {},
   "source": [
    "# Tutorial for Python and Jupyter Notebooks.\n",
    "\n",
    "Jupyter notebooks are notebooks where you can write text (markdown cells) or python code (here, Python 3 is used), and modify them whenever you can. This is a nice way to embbed Python codes, equations (LaTeX is OK), explanations and figures all together. \n",
    "\n",
    "To run the notebook, use (on 1 cell) \"shift + enter\". You can also run the complete notebook at once using Kernel > Restart and run all. If you have a weird thing happening, think about restarting the kernel. All computed values will be deleted, and the code will be running from 0 again. \n",
    "\n",
    "Double click on this text to modify it. "
   ]
  },
  {
   "cell_type": "markdown",
   "metadata": {},
   "source": [
    "It's not possible to run\n",
    "> python3 jupyternotebook.ipynb\n",
    "\n",
    "But you can take all the code in this notebook, copy it to an empty text file and run this file as \n",
    "> python3 textfile.py \n",
    "\n",
    "(The \".py\" is not required, but will help you to find the python files later)\n",
    "\n",
    "## Good practices for Python\n",
    "\n",
    "(Feel free to add any other good practice you could think about)\n",
    "\n",
    "- Comments start with #\n",
    "\n",
    "- Comment things to be able to understand your code in a few days/weeks/months/years. \n",
    "(Always think about who will have to read your code. Most of the time, it will be you in the near future, and if you comment efficiently your code, you will thank your past-self very much)\n",
    "\n",
    "- Give meaningful names to your variable (no capitals for first letter, no space, no starting with numbers, one-letter variables are usually only for indexes)\n",
    "\n",
    "- Everything or almost have an answer with google. "
   ]
  },
  {
   "cell_type": "markdown",
   "metadata": {},
   "source": [
    "## Introduction : libraries, data types, simple examples, etc.\n",
    "\n",
    "Let's start with the first important lines of a python program: \n",
    "import of libraries. Python is based on libraries, and we will be using here 2 of them: \n",
    "\n",
    "- numpy, a library to use mathematical functions and arrays (similar to Matlab)\n",
    "\n",
    "- matplotlib.pyplot, a library that will allow us to plot data. \n",
    "\n",
    "- other important libraries for scientific programming may be: scipy (to solve equations), pandas (data analysis), etc."
   ]
  },
  {
   "cell_type": "code",
   "execution_count": null,
   "metadata": {
    "collapsed": true
   },
   "outputs": [],
   "source": [
    "%matplotlib inline  \n",
    "## This allows figures to be plotted \"inline\". \n",
    "## In a normal python script, you use plt.show() to see the figures, \n",
    "## or plt.savefig(\"name.pdf\") to save the figures \n",
    "## (you can also use this command in the notebooks)\n",
    "\n",
    "import numpy as np  # for mathematical functions and arrays\n",
    "import matplotlib.pyplot as plt  # for plot\n",
    "\n",
    "## We use short names for the libraries we use a lot."
   ]
  },
  {
   "cell_type": "markdown",
   "metadata": {},
   "source": [
    "To call a function from a library, use [library name].[function name]\n",
    "\n",
    "For example: \n",
    "\n",
    "```\n",
    "np.cos(X) #take the cosinus function of values in X, using the cosinus function from numpy. \n",
    "```\n",
    "\n",
    "Some functions can be defined with same names in different libraries, which is why it's not recommanded to use \n",
    "\n",
    "```\n",
    "from [name library] import * \n",
    "```"
   ]
  },
  {
   "cell_type": "markdown",
   "metadata": {},
   "source": [
    "Python use identation as a way to compartiment code, define what's inside a function, inside a loop, etc. \n",
    "\n",
    "Here is a couple of example:\n",
    "\n",
    "- Definition of a function\n",
    "\n",
    "```\n",
    "def multiply_2(x):\n",
    "    y = x*2\n",
    "    return y\n",
    "```\n",
    "\n",
    "- For a loop\n",
    "\n",
    "``` \n",
    "for i in [1, 2, 3, 4]:\n",
    "    print(i)\n",
    "    \n",
    "for letter in \"coucou\":\n",
    "    print(letter)\n",
    "```"
   ]
  },
  {
   "cell_type": "code",
   "execution_count": null,
   "metadata": {
    "collapsed": false
   },
   "outputs": [],
   "source": [
    "# The two versions here may seems very similar, but they will give very different answer! \n",
    "\n",
    "for i in [1, 2, 3, 4]:\n",
    "    print(i)\n",
    "    \n",
    "for letter in \"AB\":\n",
    "    print(letter)"
   ]
  },
  {
   "cell_type": "code",
   "execution_count": null,
   "metadata": {
    "collapsed": false
   },
   "outputs": [],
   "source": [
    "for i in [1, 2, 3, 4]:\n",
    "    print(i)\n",
    "    \n",
    "    for letter in \"AB\":\n",
    "        print(letter)"
   ]
  },
  {
   "cell_type": "markdown",
   "metadata": {},
   "source": [
    "### First variables\n",
    "\n",
    "Python will recognize automatically the type of the variable... \n",
    "\n",
    "This is usually good, but can lead to mistake (if your function was build to handle a different type of variable). "
   ]
  },
  {
   "cell_type": "code",
   "execution_count": null,
   "metadata": {
    "collapsed": false
   },
   "outputs": [],
   "source": [
    "lapin1 = 1  #integer\n",
    "lapin2 = 1. # float\n",
    "lapin_txt = 'txt' #string\n",
    "lapin3 = {1, 1, 2, 'txt'} # set: unordered, no duplicate, mutable\n",
    "lapin4 = [1, 1, 2, 'txt'] # list: ordered, duplicate OK, mutable\n",
    "lapin_tuple = 1, 1, 2, 'txt' #tuple: ordered, duplicate OK, non mutable\n",
    "\n",
    "print(lapin1, lapin2, lapin_txt, lapin3, lapin4, lapin_tuple)\n",
    "print(type(lapin1), type(lapin2), type(lapin_txt), type(lapin3), type(lapin4), type(lapin_tuple))"
   ]
  },
  {
   "cell_type": "markdown",
   "metadata": {},
   "source": [
    "### Dictionnaries\n",
    "\n",
    "Dictionnaries are a way to stock variables while having labels. It may be very useful for some projects! "
   ]
  },
  {
   "cell_type": "code",
   "execution_count": null,
   "metadata": {
    "collapsed": false
   },
   "outputs": [],
   "source": [
    "grocery_shopping = dict({'tomato':2, 'banana':1, 'juice':4, 'beer':0})\n",
    "print(grocery_shopping.keys())\n",
    "print(\"Number of tomatoes: {}.\".format(grocery_shopping['tomato']))\n",
    "\n",
    "print(\"== Loop on items:\")\n",
    "for item in grocery_shopping.keys():\n",
    "    print(\"Number of {}(s) in the bag: {}\".format(item, grocery_shopping[item]))\n",
    "    \n",
    "print(\"== Another way to loop on the different items:\")\n",
    "for item, number in grocery_shopping.items():\n",
    "    print(\"Number of {}(s) in the bag: {}\".format(item, number))"
   ]
  },
  {
   "cell_type": "markdown",
   "metadata": {},
   "source": [
    "You can also add more variables. And variables do not need to have the same type at all! You can also have dictionnaries into a dictionnary. \n"
   ]
  },
  {
   "cell_type": "code",
   "execution_count": null,
   "metadata": {
    "collapsed": false
   },
   "outputs": [],
   "source": [
    "grocery_shopping[\"owner\"] = \"Stephanie\"\n",
    "grocery_shopping[\"non-food products\"] = {\"soap\": 2}\n",
    "print(grocery_shopping)\n",
    "\n",
    "for item, number in grocery_shopping.items():\n",
    "    if isinstance(number,int):\n",
    "        print(\"Number of {}(s) in the bag: {}\".format(item, number))"
   ]
  },
  {
   "cell_type": "markdown",
   "metadata": {},
   "source": [
    "### Numpy variables:\n",
    "\n",
    "Numpy.array is an upgrade for the lists. If you come from Matlab, you will be very familiar with how to handle numpy arrays. \n",
    "\n",
    "Multi-dimensions arrays are created by making arrays of arrays. "
   ]
  },
  {
   "cell_type": "code",
   "execution_count": null,
   "metadata": {
    "collapsed": false
   },
   "outputs": [],
   "source": [
    "lapin5 = np.array(lapin1)\n",
    "lapin6 = np.array(lapin3)\n",
    "lapin7 = np.array(lapin4)\n",
    "lapin8 = np.array([lapin4])\n",
    "\n",
    "print(lapin5, lapin6, lapin7, lapin8)\n",
    "print(type(lapin5), type(lapin6), type(lapin7), type(lapin8))"
   ]
  },
  {
   "cell_type": "markdown",
   "metadata": {},
   "source": [
    "### Operations on variables:"
   ]
  },
  {
   "cell_type": "code",
   "execution_count": null,
   "metadata": {
    "collapsed": false
   },
   "outputs": [],
   "source": [
    "print(lapin1 + lapin1)\n",
    "print(lapin1 * lapin1)\n",
    "print(lapin1/lapin1)"
   ]
  },
  {
   "cell_type": "markdown",
   "metadata": {},
   "source": [
    "### Applying functions on variables:\n",
    "\n",
    "Numpy allows us to create lists, and applying the usual mathematical functions to them. \n",
    "\n",
    "The most common lists: \n",
    "\n",
    "- np.linspace(0, 10, 10) : list of values between 0 and 10, with 10 elements\n",
    "\n",
    "- np.ones(10) : list of 10 elements, all with value 1. Similarly: np.ones_like(array)\n",
    "\n",
    "- np.zeros(10) : list of 10 elements, all with value 0. Similarly: np.zeros_like(array)"
   ]
  },
  {
   "cell_type": "code",
   "execution_count": null,
   "metadata": {
    "collapsed": false
   },
   "outputs": [],
   "source": [
    "print(np.linspace(0, 10, 10))\n",
    "print(np.ones(10))\n",
    "print(np.ones_like([1,2,3]))\n",
    "print(np.zeros(10))"
   ]
  },
  {
   "cell_type": "markdown",
   "metadata": {},
   "source": [
    "A couple of interesting mathematical functions: "
   ]
  },
  {
   "cell_type": "code",
   "execution_count": null,
   "metadata": {
    "collapsed": false
   },
   "outputs": [],
   "source": [
    "A = np.linspace(0, 10, 5)\n",
    "print(A)\n",
    "\n",
    "print(A*2)\n",
    "print(A**2)\n",
    "print(np.cos(A))\n",
    "print(np.exp(A))"
   ]
  },
  {
   "cell_type": "markdown",
   "metadata": {},
   "source": [
    "### Indexes in Python (and why it's different from Matlab!))\n",
    "\n",
    "Index starts at 0. The last one is indicated by -1. "
   ]
  },
  {
   "cell_type": "code",
   "execution_count": null,
   "metadata": {
    "collapsed": false
   },
   "outputs": [],
   "source": [
    "A = np.linspace(0, 10, 5)\n",
    "print(\"The complete array is A: {}\".format(A))\n",
    "print(\"A[:] is also: {}\".format(A[:]))\n",
    "print(\"To remove the first value, start at 1! A[1:]: {}\".format(A[1:]))\n",
    "print(\"To remove the last one, indicate what is the last index A[:-1]: {}\".format(A[:-1]))\n",
    "print(\"As Matlab, you can use A[::2]: {}\".format(A[::2]))\n",
    "print(\"And even print it on reverse order with A[::-1]: {}\".format(A[::-1]))"
   ]
  },
  {
   "cell_type": "markdown",
   "metadata": {},
   "source": [
    "## Load data from Python\n",
    "\n",
    "\n",
    "Loading data with Python is both easy and a mess. There are lots of different formats for datafiles that are readable, however for each types, you may have to look for a specific library to do so (and choose between several libraries). \n",
    "\n",
    "Here we will focus on simple data files, a text file with columns and rows. Numpy allows us to do that quite easily with `np.loadtxt(fname)`. If the datafile has missing values, variations in column numbers, etc. You may want to try other approaches: read the file line per line, and make a function to deal with each line as you want it (specific for each of your files), using `readline()` or `readlines()`, or using more higher level functions (numpy as function `np.genfromtxt()` for missing data points for example). \n",
    "\n",
    "Remark: using the syntax \"with open() as\" is the best way to open a file (you then don't have to close it). \n",
    "```\n",
    "with open(fname) as f:\n",
    "    header = f.readlines()\n",
    "```"
   ]
  },
  {
   "cell_type": "code",
   "execution_count": null,
   "metadata": {
    "collapsed": false
   },
   "outputs": [],
   "source": [
    "fname = \"inner_edge_school_1.txt\"\n",
    "## This is a file obtained from Matlab.\n",
    "# The first line is the list of names of variables\n",
    "with open(fname) as f:\n",
    "    header = f.readline() #gives a line of text.\n",
    "    print(header) \n",
    "    print(header.split()) #split the text, by default removing white space.\n",
    "    next_line = f.readline() #read the next line of text!\n",
    "    print(next_line)\n",
    "\n",
    "print(np.loadtxt(fname,skiprows=1)[:3,:])\n",
    "\n",
    "datas = np.loadtxt(fname,skiprows=1)"
   ]
  },
  {
   "cell_type": "markdown",
   "metadata": {},
   "source": [
    "## Plot data with Python \n",
    "\n",
    "Plots are done with the package `matplotlib.pyplot` .\n",
    "\n",
    "We imported it at first with `import matplotlib.pyplot as plt`. In the notebook, we also added `%matplotlib inline `. Remember to use `plt.show()` if you are writing a script (or using ipython). \n",
    "\n",
    "The syntax for plots is straigthforward: `plt.plot(x, y, *options)`"
   ]
  },
  {
   "cell_type": "code",
   "execution_count": null,
   "metadata": {
    "collapsed": false
   },
   "outputs": [],
   "source": [
    "plt.plot(datas[:,0], datas[:,1])"
   ]
  },
  {
   "cell_type": "markdown",
   "metadata": {},
   "source": [
    "All plots are objects, so can be named and modified. A good way to deal with plots is to use subplots, with a handle for the figure and a handle for the different axes as \n",
    "\n",
    "```\n",
    "fig, ax = plt.subplots()\n",
    "```\n",
    "\n",
    "Subplots can also be used to actually make subplots: `plt.subplots(N, M)`, with N and M the number of respectively lines and columns. \n",
    "The variable `ax` can then be modified to plot data, change the values of the axes, adding legends, labels, etc."
   ]
  },
  {
   "cell_type": "code",
   "execution_count": null,
   "metadata": {
    "collapsed": false
   },
   "outputs": [],
   "source": [
    "fig, ax = plt.subplots(1,2, sharey = True) #sharey = True indicate that both graphs will share their y axe. \n",
    "\n",
    "ax[0].plot(datas[:,1], datas[:,0])\n",
    "ax[0].set_title(\"Pressure\")\n",
    "ax[1].plot(datas[:,2], datas[:,0])\n",
    "ax[1].set_title(\"Temperature\")"
   ]
  },
  {
   "cell_type": "markdown",
   "metadata": {},
   "source": [
    "### Other types of plot\n",
    "\n",
    "#### Scatter plots\n"
   ]
  },
  {
   "cell_type": "code",
   "execution_count": null,
   "metadata": {
    "collapsed": false
   },
   "outputs": [],
   "source": [
    "N = 200\n",
    "x = np.random.rand(N)*2-1.\n",
    "y = np.random.rand(N)*2-1.\n",
    "value = np.sqrt(x**2+y**2)*100\n",
    "color = np.arange(N) \n",
    "\n",
    "fig, ax = plt.subplots()\n",
    "sc = ax.scatter(x, y, value, c=color, cmap='viridis')\n",
    "ax.set_xlim([-1, 1])\n",
    "ax.set_ylim([-1, 1])\n",
    "fig.colorbar(sc)  #notice the use of \"sc\" here"
   ]
  },
  {
   "cell_type": "markdown",
   "metadata": {},
   "source": [
    "Remark: it is important to think about the colormaps you are using. Lots of colormaps on scientific papers are the \"default\" ones, such as the very well known \"jet\" colormap (very close to the default matlab colormap). These colormaps are problematic, because they are not perceptually uniform. If you want to see a discussion about it, please have a look here: https://matplotlib.org/users/colormaps.html"
   ]
  },
  {
   "cell_type": "markdown",
   "metadata": {},
   "source": [
    "#### Maps\n",
    "\n",
    "Maps are really important in Earth Science and planetary sciences, but also in biology if you want to indicate where you get your data from for example. \n",
    "\n",
    "In Earth Science, the preferred way to plot a map is usually GMT (Global Mapping Tools). However, the syntax is a mess (I stopped using it before GMT4, so it may be better now...)\n",
    "\n",
    "With Python, my prefered package to show maps is basemap, which is a part of matplotlib, but requires a specific installation. Here is an example (assuming basemap is successfully installed)\n",
    "\n",
    "Basemap website: https://matplotlib.org/basemap/"
   ]
  },
  {
   "cell_type": "code",
   "execution_count": null,
   "metadata": {
    "collapsed": false
   },
   "outputs": [],
   "source": [
    "from mpl_toolkits.basemap import Basemap\n",
    "# set up orthographic map projection with\n",
    "# perspective of satellite looking down at Tokyo.\n",
    "# use low resolution coastlines.\n",
    "\n",
    "Tokyo = [35.6895000, 139.6917100]\n",
    "\n",
    "m = Basemap(projection='ortho',lat_0=Tokyo[0],lon_0=Tokyo[1],resolution='l')\n",
    "# draw coastlines, country boundaries, fill continents.\n",
    "m.drawcoastlines(linewidth=0.25)\n",
    "m.drawcountries(linewidth=0.25)\n",
    "m.fillcontinents(color='coral',lake_color='aqua')\n",
    "# draw the edge of the map projection region (the projection limb)\n",
    "m.drawmapboundary(fill_color='aqua')\n",
    "# draw lat/lon grid lines every 30 degrees.\n",
    "m.drawmeridians(np.arange(0,360,30))\n",
    "m.drawparallels(np.arange(-90,90,30))\n",
    "# make up some data on a regular lat/lon grid.\n",
    "nlats = 75; nlons = 145; delta = 2.*np.pi/(nlons-1)\n",
    "lats = (0.5*np.pi-delta*np.indices((nlats,nlons))[0,:,:])\n",
    "lons = (delta*np.indices((nlats,nlons))[1,:,:])\n",
    "wave = 0.75*(np.sin(2.*lats)**8*np.cos(4.*lons))\n",
    "mean = 0.5*np.cos(2.*lats)*((np.sin(2.*lats))**2 + 2.)\n",
    "# compute native map projection coordinates of lat/lon grid.\n",
    "x, y = m(lons*180./np.pi, lats*180./np.pi)\n",
    "# contour data over the map.\n",
    "cs = m.contour(x,y,wave+mean,15,linewidths=1.5)\n",
    "plt.title('contour lines over filled continent background')"
   ]
  },
  {
   "cell_type": "code",
   "execution_count": null,
   "metadata": {
    "collapsed": false
   },
   "outputs": [],
   "source": [
    "## Different projections: hammer, \n",
    "\n",
    "Tokyo = [35.6895000, 139.6917100]\n",
    "\n",
    "m2 = Basemap(projection='hammer',lon_0=Tokyo[1],resolution='l')\n",
    "m2.drawcoastlines(linewidth=0.25)\n",
    "m2.drawcountries(linewidth=0.25)\n",
    "m2.fillcontinents(color='coral',lake_color='aqua')\n",
    "m2.drawmapboundary(fill_color='aqua')\n",
    "m2.drawmeridians(np.arange(0,360,30))\n",
    "m2.drawparallels(np.arange(-90,90,30))\n",
    "plt.title('contour lines over filled continent background')\n"
   ]
  },
  {
   "cell_type": "code",
   "execution_count": null,
   "metadata": {
    "collapsed": false
   },
   "outputs": [],
   "source": [
    "llcrnr = [34.392059, 138.191538]\n",
    "urcrnr = [35.927564, 140.247812]\n",
    "\n",
    "m = Basemap(llcrnrlon=llcrnr[1],llcrnrlat=llcrnr[0],urcrnrlon=urcrnr[1],urcrnrlat=urcrnr[0],\n",
    "            projection='lcc',lat_1=34.,lat_2=35.,lon_0=140.,\n",
    "            resolution ='i',area_thresh=100.)\n",
    "m.drawcoastlines()\n",
    "m.drawcountries()\n",
    "m.drawmapboundary(fill_color='#99ffff')\n",
    "m.fillcontinents(color='#cc9966',lake_color='#99ffff')\n",
    "m.drawparallels(np.arange(10,70,20),labels=[1,1,0,0])\n",
    "m.drawmeridians(np.arange(-100,0,20),labels=[0,0,0,1])\n",
    "\n",
    "\n",
    "Titech = [35.602224, 139.684423]\n",
    "Jogazaki = [34.870410, 139.108166]\n",
    "Omuro = [34.902849, 139.096305] \n",
    "Numazu = [35.095182, 138.862448]\n",
    "Owakudani = [35.242688, 139.019048]\n",
    "\n",
    "long = [Titech[1], Jogazaki[1], Omuro[1], Numazu[1], Owakudani[1]]\n",
    "lat =  [Titech[0], Jogazaki[0], Omuro[0], Numazu[0], Owakudani[0]]\n",
    "labels = [\"Titech\", \"Jogazaki\", \"Omuro\", \"Numazu\", \"Owakudani\"]\n",
    "x, y = m(long, lat)\n",
    "print(x,y)\n",
    "m.scatter(x, y,30,  color='r', zorder =10, marker='*')\n",
    "\n",
    "for i, label in enumerate(labels):\n",
    "    if label == 'Omuro' or label == 'Titech': xytest = -40, -4\n",
    "    else: xytest = 6, -4\n",
    "    plt.annotate(label, xy = (x[i], y[i]), xytext = xytest, textcoords = 'offset points')"
   ]
  },
  {
   "cell_type": "code",
   "execution_count": null,
   "metadata": {
    "collapsed": true
   },
   "outputs": [],
   "source": []
  }
 ],
 "metadata": {
  "kernelspec": {
   "display_name": "Python 3",
   "language": "python",
   "name": "python3"
  },
  "language_info": {
   "codemirror_mode": {
    "name": "ipython",
    "version": 3
   },
   "file_extension": ".py",
   "mimetype": "text/x-python",
   "name": "python",
   "nbconvert_exporter": "python",
   "pygments_lexer": "ipython3",
   "version": "3.5.1"
  }
 },
 "nbformat": 4,
 "nbformat_minor": 1
}
